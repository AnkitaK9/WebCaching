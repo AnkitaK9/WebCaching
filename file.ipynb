{
  "cells": [
    {
      "cell_type": "code",
      "execution_count": 8,
      "metadata": {
        "colab": {
          "base_uri": "https://localhost:8080/",
          "height": 332
        },
        "id": "8uded5cET1xp",
        "outputId": "a1e51438-9155-45d5-9199-a2c4a29217f3"
      },
      "outputs": [
        {
          "name": "stdout",
          "output_type": "stream",
          "text": [
            "['0', '868289764', '69334', '1.83E-4']\n"
          ]
        },
        {
          "ename": "ValueError",
          "evalue": "invalid literal for int() with base 10: '1.83E-4'",
          "output_type": "error",
          "traceback": [
            "\u001b[0;31m---------------------------------------------------------------------------\u001b[0m",
            "\u001b[0;31mValueError\u001b[0m                                Traceback (most recent call last)",
            "Cell \u001b[0;32mIn[8], line 35\u001b[0m\n\u001b[1;32m     33\u001b[0m tsv_file \u001b[38;5;241m=\u001b[39m \u001b[38;5;124m\"\u001b[39m\u001b[38;5;124mcache-t-00.tsv\u001b[39m\u001b[38;5;124m\"\u001b[39m\n\u001b[1;32m     34\u001b[0m output_file \u001b[38;5;241m=\u001b[39m \u001b[38;5;124m\"\u001b[39m\u001b[38;5;124moutput.tr\u001b[39m\u001b[38;5;124m\"\u001b[39m\n\u001b[0;32m---> 35\u001b[0m \u001b[43mconvert_tsv_to_request_traces\u001b[49m\u001b[43m(\u001b[49m\u001b[43mtsv_file\u001b[49m\u001b[43m,\u001b[49m\u001b[43m \u001b[49m\u001b[43moutput_file\u001b[49m\u001b[43m)\u001b[49m\n",
            "Cell \u001b[0;32mIn[8], line 18\u001b[0m, in \u001b[0;36mconvert_tsv_to_request_traces\u001b[0;34m(tsv_file, output_file)\u001b[0m\n\u001b[1;32m     16\u001b[0m relative_unix \u001b[38;5;241m=\u001b[39m \u001b[38;5;28mint\u001b[39m(columns[\u001b[38;5;241m0\u001b[39m])\n\u001b[1;32m     17\u001b[0m hashed_host_path_query \u001b[38;5;241m=\u001b[39m hash_host_path_query(columns[\u001b[38;5;241m1\u001b[39m], columns[\u001b[38;5;241m2\u001b[39m], columns[\u001b[38;5;241m3\u001b[39m])\n\u001b[0;32m---> 18\u001b[0m response_size \u001b[38;5;241m=\u001b[39m \u001b[38;5;28;43mint\u001b[39;49m\u001b[43m(\u001b[49m\u001b[43mcolumns\u001b[49m\u001b[43m[\u001b[49m\u001b[38;5;241;43m3\u001b[39;49m\u001b[43m]\u001b[49m\u001b[43m)\u001b[49m\n\u001b[1;32m     19\u001b[0m time_firstbyte \u001b[38;5;241m=\u001b[39m \u001b[38;5;28mfloat\u001b[39m(columns[\u001b[38;5;241m5\u001b[39m])\n\u001b[1;32m     21\u001b[0m request_traces\u001b[38;5;241m.\u001b[39mappend((relative_unix, hashed_host_path_query, response_size))\n",
            "\u001b[0;31mValueError\u001b[0m: invalid literal for int() with base 10: '1.83E-4'"
          ]
        }
      ],
      "source": [
        "import hashlib\n",
        "\n",
        "# Function to hash host, path, and query\n",
        "def hash_host_path_query(host, path, query):\n",
        "    string_to_hash = f\"{host}{path}{query}\"\n",
        "    return int(hashlib.sha256(string_to_hash.encode()).hexdigest(), 16)\n",
        "\n",
        "# Read TSV file and convert to the desired format\n",
        "def convert_tsv_to_request_traces(tsv_file, output_file):\n",
        "    request_traces = []\n",
        "    with open(tsv_file, 'r') as f:\n",
        "        next(f)  # Skip header\n",
        "        for line in f:\n",
        "            columns = line.strip().split('\\t')\n",
        "            print(columns) \n",
        "            relative_unix = int(columns[0])\n",
        "            hashed_host_path_query = hash_host_path_query(columns[1], columns[2], columns[3])\n",
        "            response_size = int(columns[2])\n",
        "            time_firstbyte = float(columns[3])\n",
        "\n",
        "            request_traces.append((relative_unix, hashed_host_path_query, response_size))\n",
        "\n",
        "    # Convert to space-separated format\n",
        "    request_traces_formatted = \"time id size\\n\"\n",
        "    for i, trace in enumerate(request_traces, start=1):\n",
        "        request_traces_formatted += f\"{trace[0]} {i} {trace[2]}\\n\"\n",
        "\n",
        "    # Write to output file\n",
        "    with open(output_file, 'w') as f:\n",
        "        f.write(request_traces_formatted)\n",
        "\n",
        "# Example usage\n",
        "tsv_file = \"cache-t-00.tsv\"\n",
        "output_file = \"output.tr\"\n",
        "convert_tsv_to_request_traces(tsv_file, output_file)\n",
        "\n"
      ]
    },
    {
      "cell_type": "code",
      "execution_count": null,
      "metadata": {
        "id": "QaICIRYQVmL9"
      },
      "outputs": [],
      "source": [
        "import csv\n",
        "\n",
        "# Function to convert TSV to CSV\n",
        "def convert_tsv_to_csv(tsv_file, csv_file):\n",
        "    with open(tsv_file, 'r') as tsvfile:\n",
        "        with open(csv_file, 'w', newline='') as csvfile:\n",
        "            tsvreader = csv.reader(tsvfile, delimiter='\\t')\n",
        "            csvwriter = csv.writer(csvfile, delimiter=',')\n",
        "            for row in tsvreader:\n",
        "                csvwriter.writerow(row)\n",
        "\n",
        "# Example usage\n",
        "tsv_file = \"/content/cache-t-00.tsv\"\n",
        "csv_file = \"output.csv\"\n",
        "convert_tsv_to_csv(tsv_file, csv_file)\n"
      ]
    },
    {
      "cell_type": "code",
      "execution_count": null,
      "metadata": {
        "colab": {
          "base_uri": "https://localhost:8080/",
          "height": 315
        },
        "id": "7Gcq35z8WATj",
        "outputId": "adef2dfe-6deb-4587-f479-089c1a018128"
      },
      "outputs": [
        {
          "ename": "TypeError",
          "evalue": "int() argument must be a string, a bytes-like object or a real number, not 'NoneType'",
          "output_type": "error",
          "traceback": [
            "\u001b[0;31m---------------------------------------------------------------------------\u001b[0m",
            "\u001b[0;31mTypeError\u001b[0m                                 Traceback (most recent call last)",
            "\u001b[0;32m<ipython-input-3-c23c04ebfdb1>\u001b[0m in \u001b[0;36m<cell line: 18>\u001b[0;34m()\u001b[0m\n\u001b[1;32m     16\u001b[0m \u001b[0mcsv_file\u001b[0m \u001b[0;34m=\u001b[0m \u001b[0;34m'/content/output.csv'\u001b[0m\u001b[0;34m\u001b[0m\u001b[0;34m\u001b[0m\u001b[0m\n\u001b[1;32m     17\u001b[0m \u001b[0mtr_file\u001b[0m \u001b[0;34m=\u001b[0m \u001b[0;34m'output.tr'\u001b[0m\u001b[0;34m\u001b[0m\u001b[0;34m\u001b[0m\u001b[0m\n\u001b[0;32m---> 18\u001b[0;31m \u001b[0mconvert_to_tr\u001b[0m\u001b[0;34m(\u001b[0m\u001b[0mcsv_file\u001b[0m\u001b[0;34m,\u001b[0m \u001b[0mtr_file\u001b[0m\u001b[0;34m)\u001b[0m\u001b[0;34m\u001b[0m\u001b[0;34m\u001b[0m\u001b[0m\n\u001b[0m",
            "\u001b[0;32m<ipython-input-3-c23c04ebfdb1>\u001b[0m in \u001b[0;36mconvert_to_tr\u001b[0;34m(csv_file, tr_file)\u001b[0m\n\u001b[1;32m      9\u001b[0m         \u001b[0mid_count\u001b[0m \u001b[0;34m=\u001b[0m \u001b[0;36m1\u001b[0m\u001b[0;34m\u001b[0m\u001b[0;34m\u001b[0m\u001b[0m\n\u001b[1;32m     10\u001b[0m         \u001b[0;32mfor\u001b[0m \u001b[0mrow\u001b[0m \u001b[0;32min\u001b[0m \u001b[0mcsv_reader\u001b[0m\u001b[0;34m:\u001b[0m\u001b[0;34m\u001b[0m\u001b[0;34m\u001b[0m\u001b[0m\n\u001b[0;32m---> 11\u001b[0;31m             \u001b[0msize\u001b[0m \u001b[0;34m=\u001b[0m \u001b[0mint\u001b[0m\u001b[0;34m(\u001b[0m\u001b[0mrow\u001b[0m\u001b[0;34m[\u001b[0m\u001b[0;34m'response_size'\u001b[0m\u001b[0;34m]\u001b[0m\u001b[0;34m)\u001b[0m\u001b[0;34m\u001b[0m\u001b[0;34m\u001b[0m\u001b[0m\n\u001b[0m\u001b[1;32m     12\u001b[0m             \u001b[0mtr_output\u001b[0m\u001b[0;34m.\u001b[0m\u001b[0mwrite\u001b[0m\u001b[0;34m(\u001b[0m\u001b[0;34mf\"{time} {id_count} {size}\\n\"\u001b[0m\u001b[0;34m)\u001b[0m\u001b[0;34m\u001b[0m\u001b[0;34m\u001b[0m\u001b[0m\n\u001b[1;32m     13\u001b[0m             \u001b[0mid_count\u001b[0m \u001b[0;34m+=\u001b[0m \u001b[0;36m1\u001b[0m\u001b[0;34m\u001b[0m\u001b[0;34m\u001b[0m\u001b[0m\n",
            "\u001b[0;31mTypeError\u001b[0m: int() argument must be a string, a bytes-like object or a real number, not 'NoneType'"
          ]
        }
      ],
      "source": [
        "import csv\n",
        "\n",
        "# Function to convert CSV to .tr format\n",
        "def convert_to_tr(csv_file, tr_file):\n",
        "    with open(csv_file, 'r') as csv_input, open(tr_file, 'w') as tr_output:\n",
        "        csv_reader = csv.DictReader(csv_input)\n",
        "        tr_output.write(\"time id size\\n\")\n",
        "        time = 1\n",
        "        id_count = 1\n",
        "        for row in csv_reader:\n",
        "            size = int(row['response_size'])\n",
        "            tr_output.write(f\"{time} {id_count} {size}\\n\")\n",
        "            id_count += 1\n",
        "\n",
        "# Example usage:\n",
        "csv_file = '/content/output.csv'\n",
        "tr_file = 'output.tr'\n",
        "convert_to_tr(csv_file, tr_file)\n"
      ]
    },
    {
      "cell_type": "code",
      "execution_count": null,
      "metadata": {
        "id": "gqinY1VQXpwr"
      },
      "outputs": [],
      "source": [
        "import csv\n",
        "\n",
        "# Function to convert CSV to .tr format\n",
        "def convert_to_tr(csv_file, tr_file):\n",
        "    with open(csv_file, 'r') as csv_input, open(tr_file, 'w') as tr_output:\n",
        "        csv_reader = csv.DictReader(csv_input)\n",
        "        tr_output.write(\"time id size\\n\")\n",
        "        time = 1\n",
        "        id_count = 1\n",
        "        for row in csv_reader:\n",
        "            response_size = row['response_size']\n",
        "            if response_size is not None:\n",
        "                size = int(response_size)\n",
        "                tr_output.write(f\"{time} {id_count} {size}\\n\")\n",
        "                id_count += 1\n",
        "\n",
        "# Example usage:\n",
        "csv_file = '/content/output.csv'\n",
        "tr_file = 'output.tr'\n",
        "convert_to_tr(csv_file, tr_file)\n"
      ]
    },
    {
      "cell_type": "code",
      "execution_count": null,
      "metadata": {
        "id": "MWt3EUuKX9X4"
      },
      "outputs": [],
      "source": [
        "import csv\n",
        "\n",
        "# Function to convert CSV to .tr format\n",
        "def convert_to_tr(csv_file, tr_file):\n",
        "    with open(csv_file, 'r') as csv_input:\n",
        "        csv_reader = csv.DictReader(csv_input)\n",
        "        max_size = 0\n",
        "        for row in csv_reader:\n",
        "            response_size = row['response_size']\n",
        "            if response_size is not None:\n",
        "                size = int(response_size)\n",
        "                if size > max_size:\n",
        "                    max_size = size\n",
        "\n",
        "    with open(csv_file, 'r') as csv_input, open(tr_file, 'w') as tr_output:\n",
        "        csv_reader = csv.DictReader(csv_input)\n",
        "        tr_output.write(\"time id size\\n\")\n",
        "        for row in csv_reader:\n",
        "            response_size = row['response_size']\n",
        "            if response_size is not None:\n",
        "                size = int(response_size)\n",
        "                relative_unix = row['relative_unix']\n",
        "                hashed_id = row['hashed_host_path_query']\n",
        "                tr_output.write(f\"{relative_unix} {hashed_id} {size}\\n\")\n",
        "\n",
        "\n",
        "# Example usage:\n",
        "csv_file = '/content/output.csv'\n",
        "tr_file = 'output.tr'\n",
        "convert_to_tr(csv_file, tr_file)\n",
        "\n"
      ]
    },
    {
      "cell_type": "code",
      "execution_count": null,
      "metadata": {
        "id": "OD5jByj_YwUL"
      },
      "outputs": [],
      "source": [
        "1670717"
      ]
    }
  ],
  "metadata": {
    "colab": {
      "provenance": []
    },
    "kernelspec": {
      "display_name": "Python 3",
      "name": "python3"
    },
    "language_info": {
      "codemirror_mode": {
        "name": "ipython",
        "version": 3
      },
      "file_extension": ".py",
      "mimetype": "text/x-python",
      "name": "python",
      "nbconvert_exporter": "python",
      "pygments_lexer": "ipython3",
      "version": "3.10.12"
    }
  },
  "nbformat": 4,
  "nbformat_minor": 0
}
